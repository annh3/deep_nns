{
 "cells": [
  {
   "cell_type": "code",
   "execution_count": 1,
   "id": "a8262bb7-f711-4e67-a56b-38eb62510df4",
   "metadata": {},
   "outputs": [],
   "source": [
    "import torch\n",
    "import torch.nn as nn\n",
    "import math\n",
    "import numpy as np\n",
    "import copy\n",
    "from torch.autograd import Variable\n",
    "import torch.nn.functional as F\n",
    "import time\n",
    "from attention import clones, future_mask, MultiHeadedAttention, FeedForwardNetwork, Embeddings, PositionalEncoding, Generator, LayerNorm, SublayerConnection, Encoder, Decoder, EncoderDecoder, make_model, Batch"
   ]
  },
  {
   "cell_type": "code",
   "execution_count": 2,
   "id": "13fce76f-6c79-4359-b79c-8dd9d84d7801",
   "metadata": {},
   "outputs": [],
   "source": [
    "vocab_size = 10\n",
    "batch_size = 16\n",
    "nbatches = 20\n",
    "d_model = 512"
   ]
  },
  {
   "cell_type": "code",
   "execution_count": 3,
   "id": "676b358a-97c2-4eb9-8f98-728e920321a0",
   "metadata": {},
   "outputs": [],
   "source": [
    "class zrange:\n",
    "    def __init__(self, d_model, batch_size, n_batches, vocab_size):\n",
    "        self.data = torch.from_numpy(np.random.randint(1, vocab_size, size=(batch_size*nbatches, d_model)))\n",
    "        self.d_model = d_model\n",
    "        self.batch_size = batch_size\n",
    "        self.n_batches = n_batches\n",
    "\n",
    "    def __iter__(self):\n",
    "        return zrange_iter(self.n_batches, self.batch_size, self.data)\n",
    "\n",
    "class zrange_iter:\n",
    "    def __init__(self, n_batches, batch_size, data):\n",
    "        self.i = 0\n",
    "        self.n_batches = n_batches\n",
    "        self.batch_size = batch_size\n",
    "        self.data = data\n",
    "\n",
    "    def __iter__(self):\n",
    "        # Iterators are iterables too.\n",
    "        # Adding this functions to make them so.\n",
    "        return self\n",
    "\n",
    "    def __next__(self):\n",
    "        if self.i < self.n_batches:\n",
    "            idx = self.i*self.batch_size\n",
    "            src = Variable(self.data[idx:idx+batch_size], requires_grad=False)\n",
    "            tgt = Variable(self.data[idx:idx+batch_size], requires_grad=False)\n",
    "            self.i += 1\n",
    "            return Batch(src, tgt, 0)\n",
    "        else:\n",
    "            raise StopIteration()"
   ]
  },
  {
   "cell_type": "code",
   "execution_count": 4,
   "id": "ece38d97-f293-432c-bf73-c71cb69c1548",
   "metadata": {},
   "outputs": [],
   "source": [
    "z = zrange(d_model, batch_size, nbatches, vocab_size)"
   ]
  },
  {
   "cell_type": "code",
   "execution_count": 5,
   "id": "ebdd7ce4-b642-47d3-81b2-5ba13bca66c3",
   "metadata": {},
   "outputs": [
    {
     "data": {
      "text/plain": [
       "[<attention.Batch at 0x13da6a990>,\n",
       " <attention.Batch at 0x13d251dc0>,\n",
       " <attention.Batch at 0x13d252210>,\n",
       " <attention.Batch at 0x13ce3a330>,\n",
       " <attention.Batch at 0x13da6aa50>,\n",
       " <attention.Batch at 0x13da6a4b0>,\n",
       " <attention.Batch at 0x13da6aa20>,\n",
       " <attention.Batch at 0x13da6a1b0>,\n",
       " <attention.Batch at 0x13da6a240>,\n",
       " <attention.Batch at 0x13da6a180>,\n",
       " <attention.Batch at 0x13da6a540>,\n",
       " <attention.Batch at 0x13da6aab0>,\n",
       " <attention.Batch at 0x13da6ab40>,\n",
       " <attention.Batch at 0x13da6ab10>,\n",
       " <attention.Batch at 0x13da6aa80>,\n",
       " <attention.Batch at 0x13da6b380>,\n",
       " <attention.Batch at 0x13da6b2f0>,\n",
       " <attention.Batch at 0x13da6b230>,\n",
       " <attention.Batch at 0x13da6ab70>,\n",
       " <attention.Batch at 0x13da6aba0>]"
      ]
     },
     "execution_count": 5,
     "metadata": {},
     "output_type": "execute_result"
    }
   ],
   "source": [
    "list(z)"
   ]
  },
  {
   "cell_type": "code",
   "execution_count": 6,
   "id": "22054b20-0162-4545-a5e6-06d77d3ce3c5",
   "metadata": {},
   "outputs": [],
   "source": [
    "data = torch.from_numpy(np.random.randint(1, vocab_size, size=(batch_size*nbatches, d_model)))\n",
    "data[:, 0] = 1"
   ]
  },
  {
   "cell_type": "code",
   "execution_count": 7,
   "id": "16ac6b5a-5cf3-403c-b611-9c8addb358a5",
   "metadata": {},
   "outputs": [],
   "source": [
    "def data_gen(V, total_data, batch_size, nbatches, d_model=10):\n",
    "    \"Generate random data for a src-tgt copy task.\"\n",
    "    i = 0\n",
    "    while i < nbatches:\n",
    "        idx = i*batch_size \n",
    "        src = Variable(data[idx:idx+batch_size], requires_grad=False)\n",
    "        tgt = Variable(data[idx:idx+batch_size], requires_grad=False)\n",
    "        yield Batch(src, tgt, 0)\n",
    "        i += 1"
   ]
  },
  {
   "cell_type": "code",
   "execution_count": 8,
   "id": "be538ae9-20f8-4635-bc66-92c107d036cc",
   "metadata": {},
   "outputs": [],
   "source": [
    "## testing make_model\n",
    "model = make_model(vocab_size, vocab_size)\n",
    "data_generator = data_gen(data,vocab_size,batch_size,nbatches,d_model)"
   ]
  },
  {
   "cell_type": "code",
   "execution_count": 9,
   "id": "7c3b5e26-4fb9-4a20-9541-ed7de9473e49",
   "metadata": {},
   "outputs": [],
   "source": [
    "class NoamOpt:\n",
    "    \"Optim wrapper that implements rate.\"\n",
    "    def __init__(self, model_size, factor, warmup, optimizer):\n",
    "        self.optimizer = optimizer\n",
    "        self._step = 0\n",
    "        self.warmup = warmup\n",
    "        self.factor = factor\n",
    "        self.model_size = model_size\n",
    "        self._rate = 0\n",
    "        \n",
    "    def step(self):\n",
    "        \"Update parameters and rate\"\n",
    "        self._step += 1\n",
    "        rate = self.rate()\n",
    "        for p in self.optimizer.param_groups:\n",
    "            p['lr'] = rate\n",
    "        self._rate = rate\n",
    "        self.optimizer.step()\n",
    "        \n",
    "    def rate(self, step = None):\n",
    "        \"Implement `lrate` above\"\n",
    "        if step is None:\n",
    "            step = self._step\n",
    "        return self.factor * \\\n",
    "            (self.model_size ** (-0.5) *\n",
    "            min(step ** (-0.5), step * self.warmup ** (-1.5)))\n",
    "        \n",
    "def get_std_opt(model):\n",
    "    return NoamOpt(model.src_embed[0].d_model, 2, 4000,\n",
    "            torch.optim.Adam(model.parameters(), lr=0, betas=(0.9, 0.98), eps=1e-9))"
   ]
  },
  {
   "cell_type": "code",
   "execution_count": 10,
   "id": "37319d9d-b92d-43df-8abb-e7935e79e7c6",
   "metadata": {},
   "outputs": [],
   "source": [
    "def run_epoch(data_iter, model, loss_compute):\n",
    "    \"Standard Training and Logging Function\"\n",
    "    start = time.time()\n",
    "    total_tokens = 0\n",
    "    total_loss = 0\n",
    "    tokens = 0\n",
    "    for i, batch in enumerate(data_iter):\n",
    "        out = model.forward(batch.src, batch.trg, \n",
    "                            batch.src_mask, batch.trg_mask)\n",
    "        #print(\"out shape: \", out.size())\n",
    "        #print(\"tgt_y shape: \", batch.trg_y.size())\n",
    "        loss = loss_compute(out, batch.trg_y, batch.ntokens)\n",
    "        total_loss += loss\n",
    "        total_tokens += batch.ntokens.item()\n",
    "        tokens += batch.ntokens.item()\n",
    "        if i % 1 == 0:\n",
    "            elapsed = time.time() - start\n",
    "            print(\"Epoch Step: %d Loss: %f Tokens per Sec: %f\" %\n",
    "                    (i, loss / batch.ntokens, tokens / elapsed))\n",
    "            start = time.time()\n",
    "            tokens = 0\n",
    "    #print(\"total_loss: \", total_loss)\n",
    "    #print(\"total_tokens: \", total_tokens)\n",
    "    #return total_loss / total_tokens"
   ]
  },
  {
   "cell_type": "code",
   "execution_count": 11,
   "id": "6e2717ab-9fd1-4e87-9953-9c0fd947330a",
   "metadata": {},
   "outputs": [],
   "source": [
    "class SimpleLossCompute:\n",
    "    \"A simple loss compute and train function.\"\n",
    "    def __init__(self, generator, criterion, opt=None):\n",
    "        self.generator = generator\n",
    "        self.criterion = criterion\n",
    "        self.opt = opt\n",
    "        \n",
    "    def __call__(self, x, y, norm):\n",
    "        # x = self.generator(x)\n",
    "        loss = self.criterion(x.contiguous().view(-1, x.size(-1)), \n",
    "                              y.contiguous().view(-1)) / norm\n",
    "        loss.backward()\n",
    "        if self.opt is not None:\n",
    "            self.opt.step()\n",
    "            self.opt.optimizer.zero_grad()\n",
    "        return loss.item() * norm\n"
   ]
  },
  {
   "cell_type": "code",
   "execution_count": 12,
   "id": "982c16c0-83e1-46c5-b02b-5e1f16446d43",
   "metadata": {},
   "outputs": [],
   "source": [
    "class LabelSmoothing(nn.Module):\n",
    "    \"Implement label smoothing.\"\n",
    "    def __init__(self, size, padding_idx, smoothing=0.0):\n",
    "        super(LabelSmoothing, self).__init__()\n",
    "        self.criterion = nn.KLDivLoss(size_average=False)\n",
    "        self.padding_idx = padding_idx\n",
    "        self.confidence = 1.0 - smoothing\n",
    "        self.smoothing = smoothing\n",
    "        self.size = size\n",
    "        self.true_dist = None\n",
    "        \n",
    "    def forward(self, x, target):\n",
    "        assert x.size(1) == self.size\n",
    "        true_dist = x.data.clone()\n",
    "        true_dist.fill_(self.smoothing / (self.size - 2))\n",
    "        true_dist.scatter_(1, target.data.unsqueeze(1).long(), self.confidence)\n",
    "        true_dist[:, self.padding_idx] = 0\n",
    "        mask = torch.nonzero(target.data == self.padding_idx)\n",
    "        if mask.dim() > 0:\n",
    "            true_dist.index_fill_(0, mask.squeeze(), 0.0)\n",
    "        self.true_dist = true_dist\n",
    "        return self.criterion(x, Variable(true_dist, requires_grad=False))"
   ]
  },
  {
   "cell_type": "code",
   "execution_count": 13,
   "id": "e52ef693-cc6b-4ec3-a2cb-5c870962c74a",
   "metadata": {},
   "outputs": [
    {
     "name": "stderr",
     "output_type": "stream",
     "text": [
      "/Library/Frameworks/Python.framework/Versions/3.12/lib/python3.12/site-packages/torch/nn/_reduction.py:42: UserWarning: size_average and reduce args will be deprecated, please use reduction='sum' instead.\n",
      "  warnings.warn(warning.format(ret))\n"
     ]
    },
    {
     "name": "stdout",
     "output_type": "stream",
     "text": [
      "epoch:  0\n",
      "Epoch Step: 0 Loss: 3.446250 Tokens per Sec: 1267.290997\n",
      "Epoch Step: 1 Loss: 3.236492 Tokens per Sec: 1207.103062\n",
      "Epoch Step: 2 Loss: 2.902675 Tokens per Sec: 1275.497088\n",
      "Epoch Step: 3 Loss: 2.498465 Tokens per Sec: 1502.379176\n",
      "Epoch Step: 4 Loss: 2.138298 Tokens per Sec: 1397.080464\n",
      "Epoch Step: 5 Loss: 1.847563 Tokens per Sec: 1060.637148\n",
      "Epoch Step: 6 Loss: 1.560208 Tokens per Sec: 969.015239\n",
      "Epoch Step: 7 Loss: 1.327338 Tokens per Sec: 1277.639960\n",
      "Epoch Step: 8 Loss: 1.134370 Tokens per Sec: 1265.149763\n",
      "Epoch Step: 9 Loss: 0.895822 Tokens per Sec: 1063.316940\n",
      "Epoch Step: 10 Loss: 0.702552 Tokens per Sec: 1184.823287\n",
      "Epoch Step: 11 Loss: 0.526847 Tokens per Sec: 1355.335171\n",
      "Epoch Step: 12 Loss: 0.398553 Tokens per Sec: 1187.262975\n",
      "Epoch Step: 13 Loss: 0.303925 Tokens per Sec: 1531.441171\n",
      "Epoch Step: 14 Loss: 0.244751 Tokens per Sec: 1370.089625\n",
      "Epoch Step: 15 Loss: 0.187407 Tokens per Sec: 1362.523353\n",
      "Epoch Step: 16 Loss: 0.137313 Tokens per Sec: 1392.820789\n",
      "Epoch Step: 17 Loss: 0.113782 Tokens per Sec: 1374.379558\n",
      "Epoch Step: 18 Loss: 0.080363 Tokens per Sec: 1492.414403\n",
      "Epoch Step: 19 Loss: 0.067003 Tokens per Sec: 1498.311612\n",
      "Epoch Step: 0 Loss: 0.007234 Tokens per Sec: 1690.309194\n",
      "Epoch Step: 1 Loss: 0.007534 Tokens per Sec: 1755.016332\n",
      "Epoch Step: 2 Loss: 0.007232 Tokens per Sec: 1741.938362\n",
      "Epoch Step: 3 Loss: 0.007358 Tokens per Sec: 1782.143064\n",
      "Epoch Step: 4 Loss: 0.007722 Tokens per Sec: 1698.552973\n",
      "Epoch Step: 5 Loss: 0.007364 Tokens per Sec: 1786.675874\n",
      "Epoch Step: 6 Loss: 0.007121 Tokens per Sec: 1732.186930\n",
      "Epoch Step: 7 Loss: 0.005873 Tokens per Sec: 1781.847855\n",
      "Epoch Step: 8 Loss: 0.006684 Tokens per Sec: 1748.448658\n",
      "Epoch Step: 9 Loss: 0.007695 Tokens per Sec: 1757.723472\n",
      "Epoch Step: 10 Loss: 0.007396 Tokens per Sec: 1744.170130\n",
      "Epoch Step: 11 Loss: 0.007644 Tokens per Sec: 1673.518890\n",
      "Epoch Step: 12 Loss: 0.006815 Tokens per Sec: 1623.845135\n",
      "Epoch Step: 13 Loss: 0.008330 Tokens per Sec: 1626.776206\n",
      "Epoch Step: 14 Loss: 0.007098 Tokens per Sec: 1630.104292\n",
      "Epoch Step: 15 Loss: 0.006394 Tokens per Sec: 1702.801263\n",
      "Epoch Step: 16 Loss: 0.006824 Tokens per Sec: 1741.081462\n",
      "Epoch Step: 17 Loss: 0.006781 Tokens per Sec: 1690.511427\n",
      "Epoch Step: 18 Loss: 0.007457 Tokens per Sec: 1182.502182\n",
      "Epoch Step: 19 Loss: 0.005997 Tokens per Sec: 1354.640396\n",
      "None\n",
      "epoch:  1\n",
      "Epoch Step: 0 Loss: 0.055855 Tokens per Sec: 926.055644\n",
      "Epoch Step: 1 Loss: 0.044330 Tokens per Sec: 1095.084126\n",
      "Epoch Step: 2 Loss: 0.032681 Tokens per Sec: 1219.351069\n",
      "Epoch Step: 3 Loss: 0.031335 Tokens per Sec: 1220.280999\n",
      "Epoch Step: 4 Loss: 0.030730 Tokens per Sec: 1137.960795\n",
      "Epoch Step: 5 Loss: 0.030339 Tokens per Sec: 1373.760986\n",
      "Epoch Step: 6 Loss: 0.027838 Tokens per Sec: 1457.946383\n",
      "Epoch Step: 7 Loss: 0.023080 Tokens per Sec: 1523.026921\n",
      "Epoch Step: 8 Loss: 0.020166 Tokens per Sec: 1453.005548\n"
     ]
    },
    {
     "ename": "KeyboardInterrupt",
     "evalue": "",
     "output_type": "error",
     "traceback": [
      "\u001b[0;31m---------------------------------------------------------------------------\u001b[0m",
      "\u001b[0;31mKeyboardInterrupt\u001b[0m                         Traceback (most recent call last)",
      "Cell \u001b[0;32mIn[13], line 13\u001b[0m\n\u001b[1;32m     11\u001b[0m \u001b[38;5;28mprint\u001b[39m(\u001b[38;5;124m\"\u001b[39m\u001b[38;5;124mepoch: \u001b[39m\u001b[38;5;124m\"\u001b[39m, epoch)\n\u001b[1;32m     12\u001b[0m model\u001b[38;5;241m.\u001b[39mtrain()\n\u001b[0;32m---> 13\u001b[0m \u001b[43mrun_epoch\u001b[49m\u001b[43m(\u001b[49m\u001b[43mdata_generator\u001b[49m\u001b[43m,\u001b[49m\u001b[43m \u001b[49m\u001b[43mmodel\u001b[49m\u001b[43m,\u001b[49m\u001b[43m \u001b[49m\n\u001b[1;32m     14\u001b[0m \u001b[43m          \u001b[49m\u001b[43mSimpleLossCompute\u001b[49m\u001b[43m(\u001b[49m\u001b[43mmodel\u001b[49m\u001b[38;5;241;43m.\u001b[39;49m\u001b[43mgenerator\u001b[49m\u001b[43m,\u001b[49m\u001b[43m \u001b[49m\u001b[43mcriterion\u001b[49m\u001b[43m,\u001b[49m\u001b[43m \u001b[49m\u001b[43mmodel_opt\u001b[49m\u001b[43m)\u001b[49m\u001b[43m)\u001b[49m\n\u001b[1;32m     15\u001b[0m model\u001b[38;5;241m.\u001b[39meval()\n\u001b[1;32m     16\u001b[0m \u001b[38;5;28mprint\u001b[39m(run_epoch(data_generator, model, \n\u001b[1;32m     17\u001b[0m                 SimpleLossCompute(model\u001b[38;5;241m.\u001b[39mgenerator, criterion, \u001b[38;5;28;01mNone\u001b[39;00m)))\n",
      "Cell \u001b[0;32mIn[10], line 12\u001b[0m, in \u001b[0;36mrun_epoch\u001b[0;34m(data_iter, model, loss_compute)\u001b[0m\n\u001b[1;32m      8\u001b[0m out \u001b[38;5;241m=\u001b[39m model\u001b[38;5;241m.\u001b[39mforward(batch\u001b[38;5;241m.\u001b[39msrc, batch\u001b[38;5;241m.\u001b[39mtrg, \n\u001b[1;32m      9\u001b[0m                     batch\u001b[38;5;241m.\u001b[39msrc_mask, batch\u001b[38;5;241m.\u001b[39mtrg_mask)\n\u001b[1;32m     10\u001b[0m \u001b[38;5;66;03m#print(\"out shape: \", out.size())\u001b[39;00m\n\u001b[1;32m     11\u001b[0m \u001b[38;5;66;03m#print(\"tgt_y shape: \", batch.trg_y.size())\u001b[39;00m\n\u001b[0;32m---> 12\u001b[0m loss \u001b[38;5;241m=\u001b[39m \u001b[43mloss_compute\u001b[49m\u001b[43m(\u001b[49m\u001b[43mout\u001b[49m\u001b[43m,\u001b[49m\u001b[43m \u001b[49m\u001b[43mbatch\u001b[49m\u001b[38;5;241;43m.\u001b[39;49m\u001b[43mtrg_y\u001b[49m\u001b[43m,\u001b[49m\u001b[43m \u001b[49m\u001b[43mbatch\u001b[49m\u001b[38;5;241;43m.\u001b[39;49m\u001b[43mntokens\u001b[49m\u001b[43m)\u001b[49m\n\u001b[1;32m     13\u001b[0m total_loss \u001b[38;5;241m+\u001b[39m\u001b[38;5;241m=\u001b[39m loss\n\u001b[1;32m     14\u001b[0m total_tokens \u001b[38;5;241m+\u001b[39m\u001b[38;5;241m=\u001b[39m batch\u001b[38;5;241m.\u001b[39mntokens\u001b[38;5;241m.\u001b[39mitem()\n",
      "Cell \u001b[0;32mIn[11], line 12\u001b[0m, in \u001b[0;36mSimpleLossCompute.__call__\u001b[0;34m(self, x, y, norm)\u001b[0m\n\u001b[1;32m      8\u001b[0m \u001b[38;5;28;01mdef\u001b[39;00m \u001b[38;5;21m__call__\u001b[39m(\u001b[38;5;28mself\u001b[39m, x, y, norm):\n\u001b[1;32m      9\u001b[0m     \u001b[38;5;66;03m# x = self.generator(x)\u001b[39;00m\n\u001b[1;32m     10\u001b[0m     loss \u001b[38;5;241m=\u001b[39m \u001b[38;5;28mself\u001b[39m\u001b[38;5;241m.\u001b[39mcriterion(x\u001b[38;5;241m.\u001b[39mcontiguous()\u001b[38;5;241m.\u001b[39mview(\u001b[38;5;241m-\u001b[39m\u001b[38;5;241m1\u001b[39m, x\u001b[38;5;241m.\u001b[39msize(\u001b[38;5;241m-\u001b[39m\u001b[38;5;241m1\u001b[39m)), \n\u001b[1;32m     11\u001b[0m                           y\u001b[38;5;241m.\u001b[39mcontiguous()\u001b[38;5;241m.\u001b[39mview(\u001b[38;5;241m-\u001b[39m\u001b[38;5;241m1\u001b[39m)) \u001b[38;5;241m/\u001b[39m norm\n\u001b[0;32m---> 12\u001b[0m     \u001b[43mloss\u001b[49m\u001b[38;5;241;43m.\u001b[39;49m\u001b[43mbackward\u001b[49m\u001b[43m(\u001b[49m\u001b[43m)\u001b[49m\n\u001b[1;32m     13\u001b[0m     \u001b[38;5;28;01mif\u001b[39;00m \u001b[38;5;28mself\u001b[39m\u001b[38;5;241m.\u001b[39mopt \u001b[38;5;129;01mis\u001b[39;00m \u001b[38;5;129;01mnot\u001b[39;00m \u001b[38;5;28;01mNone\u001b[39;00m:\n\u001b[1;32m     14\u001b[0m         \u001b[38;5;28mself\u001b[39m\u001b[38;5;241m.\u001b[39mopt\u001b[38;5;241m.\u001b[39mstep()\n",
      "File \u001b[0;32m/Library/Frameworks/Python.framework/Versions/3.12/lib/python3.12/site-packages/torch/_tensor.py:522\u001b[0m, in \u001b[0;36mTensor.backward\u001b[0;34m(self, gradient, retain_graph, create_graph, inputs)\u001b[0m\n\u001b[1;32m    512\u001b[0m \u001b[38;5;28;01mif\u001b[39;00m has_torch_function_unary(\u001b[38;5;28mself\u001b[39m):\n\u001b[1;32m    513\u001b[0m     \u001b[38;5;28;01mreturn\u001b[39;00m handle_torch_function(\n\u001b[1;32m    514\u001b[0m         Tensor\u001b[38;5;241m.\u001b[39mbackward,\n\u001b[1;32m    515\u001b[0m         (\u001b[38;5;28mself\u001b[39m,),\n\u001b[0;32m   (...)\u001b[0m\n\u001b[1;32m    520\u001b[0m         inputs\u001b[38;5;241m=\u001b[39minputs,\n\u001b[1;32m    521\u001b[0m     )\n\u001b[0;32m--> 522\u001b[0m \u001b[43mtorch\u001b[49m\u001b[38;5;241;43m.\u001b[39;49m\u001b[43mautograd\u001b[49m\u001b[38;5;241;43m.\u001b[39;49m\u001b[43mbackward\u001b[49m\u001b[43m(\u001b[49m\n\u001b[1;32m    523\u001b[0m \u001b[43m    \u001b[49m\u001b[38;5;28;43mself\u001b[39;49m\u001b[43m,\u001b[49m\u001b[43m \u001b[49m\u001b[43mgradient\u001b[49m\u001b[43m,\u001b[49m\u001b[43m \u001b[49m\u001b[43mretain_graph\u001b[49m\u001b[43m,\u001b[49m\u001b[43m \u001b[49m\u001b[43mcreate_graph\u001b[49m\u001b[43m,\u001b[49m\u001b[43m \u001b[49m\u001b[43minputs\u001b[49m\u001b[38;5;241;43m=\u001b[39;49m\u001b[43minputs\u001b[49m\n\u001b[1;32m    524\u001b[0m \u001b[43m\u001b[49m\u001b[43m)\u001b[49m\n",
      "File \u001b[0;32m/Library/Frameworks/Python.framework/Versions/3.12/lib/python3.12/site-packages/torch/autograd/__init__.py:266\u001b[0m, in \u001b[0;36mbackward\u001b[0;34m(tensors, grad_tensors, retain_graph, create_graph, grad_variables, inputs)\u001b[0m\n\u001b[1;32m    261\u001b[0m     retain_graph \u001b[38;5;241m=\u001b[39m create_graph\n\u001b[1;32m    263\u001b[0m \u001b[38;5;66;03m# The reason we repeat the same comment below is that\u001b[39;00m\n\u001b[1;32m    264\u001b[0m \u001b[38;5;66;03m# some Python versions print out the first line of a multi-line function\u001b[39;00m\n\u001b[1;32m    265\u001b[0m \u001b[38;5;66;03m# calls in the traceback and some print out the last line\u001b[39;00m\n\u001b[0;32m--> 266\u001b[0m \u001b[43mVariable\u001b[49m\u001b[38;5;241;43m.\u001b[39;49m\u001b[43m_execution_engine\u001b[49m\u001b[38;5;241;43m.\u001b[39;49m\u001b[43mrun_backward\u001b[49m\u001b[43m(\u001b[49m\u001b[43m  \u001b[49m\u001b[38;5;66;43;03m# Calls into the C++ engine to run the backward pass\u001b[39;49;00m\n\u001b[1;32m    267\u001b[0m \u001b[43m    \u001b[49m\u001b[43mtensors\u001b[49m\u001b[43m,\u001b[49m\n\u001b[1;32m    268\u001b[0m \u001b[43m    \u001b[49m\u001b[43mgrad_tensors_\u001b[49m\u001b[43m,\u001b[49m\n\u001b[1;32m    269\u001b[0m \u001b[43m    \u001b[49m\u001b[43mretain_graph\u001b[49m\u001b[43m,\u001b[49m\n\u001b[1;32m    270\u001b[0m \u001b[43m    \u001b[49m\u001b[43mcreate_graph\u001b[49m\u001b[43m,\u001b[49m\n\u001b[1;32m    271\u001b[0m \u001b[43m    \u001b[49m\u001b[43minputs\u001b[49m\u001b[43m,\u001b[49m\n\u001b[1;32m    272\u001b[0m \u001b[43m    \u001b[49m\u001b[43mallow_unreachable\u001b[49m\u001b[38;5;241;43m=\u001b[39;49m\u001b[38;5;28;43;01mTrue\u001b[39;49;00m\u001b[43m,\u001b[49m\n\u001b[1;32m    273\u001b[0m \u001b[43m    \u001b[49m\u001b[43maccumulate_grad\u001b[49m\u001b[38;5;241;43m=\u001b[39;49m\u001b[38;5;28;43;01mTrue\u001b[39;49;00m\u001b[43m,\u001b[49m\n\u001b[1;32m    274\u001b[0m \u001b[43m\u001b[49m\u001b[43m)\u001b[49m\n",
      "\u001b[0;31mKeyboardInterrupt\u001b[0m: "
     ]
    }
   ],
   "source": [
    "vocab_size = 10\n",
    "criterion = LabelSmoothing(size=vocab_size, padding_idx=0, smoothing=0.0)\n",
    "#criterion = nn.CrossEntropyLoss()\n",
    "model = make_model(vocab_size, vocab_size, N=2)\n",
    "#data_generator = data_gen(data,vocab_size,batch_size,nbatches,d_model)\n",
    "data_generator = zrange(d_model, batch_size, nbatches, vocab_size)\n",
    "model_opt = NoamOpt(model.src_embed[0].d_model, 1, 400,\n",
    "        torch.optim.Adam(model.parameters(), lr=0, betas=(0.9, 0.98), eps=1e-9))\n",
    "\n",
    "for epoch in range(10):\n",
    "    print(\"epoch: \", epoch)\n",
    "    model.train()\n",
    "    run_epoch(data_generator, model, \n",
    "              SimpleLossCompute(model.generator, criterion, model_opt))\n",
    "    model.eval()\n",
    "    print(run_epoch(data_generator, model, \n",
    "                    SimpleLossCompute(model.generator, criterion, None)))"
   ]
  },
  {
   "cell_type": "code",
   "execution_count": null,
   "id": "7a37f80c-7f47-476d-a4ed-6c643ba3ce9d",
   "metadata": {},
   "outputs": [],
   "source": []
  }
 ],
 "metadata": {
  "kernelspec": {
   "display_name": "Python 3 (ipykernel)",
   "language": "python",
   "name": "python3"
  },
  "language_info": {
   "codemirror_mode": {
    "name": "ipython",
    "version": 3
   },
   "file_extension": ".py",
   "mimetype": "text/x-python",
   "name": "python",
   "nbconvert_exporter": "python",
   "pygments_lexer": "ipython3",
   "version": "3.12.1"
  }
 },
 "nbformat": 4,
 "nbformat_minor": 5
}
