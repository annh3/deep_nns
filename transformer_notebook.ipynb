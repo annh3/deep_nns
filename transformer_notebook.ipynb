{
 "cells": [
  {
   "cell_type": "code",
   "execution_count": 1,
   "id": "a8262bb7-f711-4e67-a56b-38eb62510df4",
   "metadata": {},
   "outputs": [],
   "source": [
    "import torch\n",
    "import torch.nn as nn\n",
    "import math\n",
    "import numpy as np\n",
    "import copy\n",
    "from torch.autograd import Variable\n",
    "import torch.nn.functional as F\n",
    "import time\n",
    "from attention import clones, future_mask, MultiHeadedAttention, FeedForwardNetwork, Embeddings, PositionalEncoding, Generator, LayerNorm, SublayerConnection, Encoder, Decoder, EncoderDecoder, make_model, Batch"
   ]
  },
  {
   "cell_type": "code",
   "execution_count": 2,
   "id": "13fce76f-6c79-4359-b79c-8dd9d84d7801",
   "metadata": {},
   "outputs": [],
   "source": [
    "vocab_size = 10\n",
    "batch_size = 16\n",
    "nbatches = 20\n",
    "d_model = 512"
   ]
  },
  {
   "cell_type": "code",
   "execution_count": 3,
   "id": "676b358a-97c2-4eb9-8f98-728e920321a0",
   "metadata": {},
   "outputs": [],
   "source": [
    "class zrange:\n",
    "    def __init__(self,batch_size, n_batches, vocab_size, seq_len):\n",
    "        self.data = torch.from_numpy(np.random.randint(1, vocab_size, size=(batch_size*nbatches, seq_len)))\n",
    "        self.batch_size = batch_size\n",
    "        self.n_batches = n_batches\n",
    "        self.seq_len = seq_len\n",
    "\n",
    "    def __iter__(self):\n",
    "        return zrange_iter(self.n_batches, self.batch_size, self.data, self.seq_len)\n",
    "\n",
    "class zrange_iter:\n",
    "    def __init__(self, n_batches, batch_size, data, seq_len):\n",
    "        self.i = 0\n",
    "        self.n_batches = n_batches\n",
    "        self.batch_size = batch_size\n",
    "        self.data = data\n",
    "        self.seq_len = seq_len\n",
    "\n",
    "    def __iter__(self):\n",
    "        # Iterators are iterables too.\n",
    "        # Adding this functions to make them so.\n",
    "        return self\n",
    "\n",
    "    def __next__(self):\n",
    "        if self.i < self.n_batches:\n",
    "            idx = self.i*self.batch_size\n",
    "            src = Variable(self.data[idx:idx+batch_size,:], requires_grad=False)\n",
    "            tgt = Variable(self.data[idx:idx+batch_size,:], requires_grad=False)\n",
    "            self.i += 1\n",
    "            return Batch(src, tgt, 0)\n",
    "        else:\n",
    "            raise StopIteration()"
   ]
  },
  {
   "cell_type": "code",
   "execution_count": 4,
   "id": "ece38d97-f293-432c-bf73-c71cb69c1548",
   "metadata": {},
   "outputs": [],
   "source": [
    "z = zrange(batch_size, nbatches, vocab_size, 10)"
   ]
  },
  {
   "cell_type": "code",
   "execution_count": 5,
   "id": "ebdd7ce4-b642-47d3-81b2-5ba13bca66c3",
   "metadata": {},
   "outputs": [
    {
     "data": {
      "text/plain": [
       "[<attention.Batch at 0x13dfacfe0>,\n",
       " <attention.Batch at 0x110f11880>,\n",
       " <attention.Batch at 0x13d95cfb0>,\n",
       " <attention.Batch at 0x10da89e50>,\n",
       " <attention.Batch at 0x13de7ba40>,\n",
       " <attention.Batch at 0x13d98f200>,\n",
       " <attention.Batch at 0x13de94380>,\n",
       " <attention.Batch at 0x13dfad070>,\n",
       " <attention.Batch at 0x13dfad0a0>,\n",
       " <attention.Batch at 0x13dface60>,\n",
       " <attention.Batch at 0x13dfacc80>,\n",
       " <attention.Batch at 0x13dface30>,\n",
       " <attention.Batch at 0x13dfaca70>,\n",
       " <attention.Batch at 0x13dfac9e0>,\n",
       " <attention.Batch at 0x13dfac9b0>,\n",
       " <attention.Batch at 0x13dfad0d0>,\n",
       " <attention.Batch at 0x13dfad100>,\n",
       " <attention.Batch at 0x13dfad130>,\n",
       " <attention.Batch at 0x13dfad160>,\n",
       " <attention.Batch at 0x13dfad190>]"
      ]
     },
     "execution_count": 5,
     "metadata": {},
     "output_type": "execute_result"
    }
   ],
   "source": [
    "list(z)"
   ]
  },
  {
   "cell_type": "code",
   "execution_count": 6,
   "id": "22054b20-0162-4545-a5e6-06d77d3ce3c5",
   "metadata": {},
   "outputs": [],
   "source": [
    "data = torch.from_numpy(np.random.randint(1, vocab_size, size=(1,batch_size*nbatches, d_model)))\n",
    "data[:, 0] = 1"
   ]
  },
  {
   "cell_type": "code",
   "execution_count": 7,
   "id": "be538ae9-20f8-4635-bc66-92c107d036cc",
   "metadata": {},
   "outputs": [],
   "source": [
    "## testing make_model\n",
    "model = make_model(vocab_size, vocab_size)\n"
   ]
  },
  {
   "cell_type": "code",
   "execution_count": 8,
   "id": "7c3b5e26-4fb9-4a20-9541-ed7de9473e49",
   "metadata": {},
   "outputs": [],
   "source": [
    "class NoamOpt:\n",
    "    \"Optim wrapper that implements rate.\"\n",
    "    def __init__(self, model_size, factor, warmup, optimizer):\n",
    "        self.optimizer = optimizer\n",
    "        self._step = 0\n",
    "        self.warmup = warmup\n",
    "        self.factor = factor\n",
    "        self.model_size = model_size\n",
    "        self._rate = 0\n",
    "        \n",
    "    def step(self):\n",
    "        \"Update parameters and rate\"\n",
    "        self._step += 1\n",
    "        rate = self.rate()\n",
    "        for p in self.optimizer.param_groups:\n",
    "            p['lr'] = rate\n",
    "        self._rate = rate\n",
    "        self.optimizer.step()\n",
    "        \n",
    "    def rate(self, step = None):\n",
    "        \"Implement `lrate` above\"\n",
    "        if step is None:\n",
    "            step = self._step\n",
    "        return self.factor * \\\n",
    "            (self.model_size ** (-0.5) *\n",
    "            min(step ** (-0.5), step * self.warmup ** (-1.5)))\n",
    "        \n",
    "def get_std_opt(model):\n",
    "    return NoamOpt(model.src_embed[0].d_model, 2, 4000,\n",
    "            torch.optim.Adam(model.parameters(), lr=0, betas=(0.9, 0.98), eps=1e-9))"
   ]
  },
  {
   "cell_type": "code",
   "execution_count": 9,
   "id": "37319d9d-b92d-43df-8abb-e7935e79e7c6",
   "metadata": {},
   "outputs": [],
   "source": [
    "def run_epoch(data_iter, model, loss_compute):\n",
    "    \"Standard Training and Logging Function\"\n",
    "    start = time.time()\n",
    "    total_tokens = 0\n",
    "    total_loss = 0\n",
    "    tokens = 0\n",
    "    for i, batch in enumerate(data_iter):\n",
    "        out = model.forward(batch.src, batch.trg, \n",
    "                            batch.src_mask, batch.trg_mask)\n",
    "        #print(\"out shape: \", out.size())\n",
    "        #print(\"tgt_y shape: \", batch.trg_y.size())\n",
    "        loss = loss_compute(out, batch.trg_y, batch.ntokens)\n",
    "        total_loss += loss\n",
    "        total_tokens += batch.ntokens.item()\n",
    "        tokens += batch.ntokens.item()\n",
    "        if i % 1 == 0:\n",
    "            elapsed = time.time() - start\n",
    "            print(\"Epoch Step: %d Loss: %f Tokens per Sec: %f\" %\n",
    "                    (i, loss / batch.ntokens, tokens / elapsed))\n",
    "            start = time.time()\n",
    "            tokens = 0\n",
    "    #print(\"total_loss: \", total_loss)\n",
    "    #print(\"total_tokens: \", total_tokens)\n",
    "    #return total_loss / total_tokens"
   ]
  },
  {
   "cell_type": "code",
   "execution_count": 10,
   "id": "6e2717ab-9fd1-4e87-9953-9c0fd947330a",
   "metadata": {},
   "outputs": [],
   "source": [
    "class SimpleLossCompute:\n",
    "    \"A simple loss compute and train function.\"\n",
    "    def __init__(self, generator, criterion, opt=None):\n",
    "        self.generator = generator\n",
    "        self.criterion = criterion\n",
    "        self.opt = opt\n",
    "        \n",
    "    def __call__(self, x, y, norm):\n",
    "        # x = self.generator(x)\n",
    "        loss = self.criterion(x.contiguous().view(-1, x.size(-1)), \n",
    "                              y.contiguous().view(-1)) / norm\n",
    "        loss.backward()\n",
    "        if self.opt is not None:\n",
    "            self.opt.step()\n",
    "            self.opt.optimizer.zero_grad()\n",
    "        return loss.item() * norm\n"
   ]
  },
  {
   "cell_type": "code",
   "execution_count": 11,
   "id": "982c16c0-83e1-46c5-b02b-5e1f16446d43",
   "metadata": {},
   "outputs": [],
   "source": [
    "class LabelSmoothing(nn.Module):\n",
    "    \"Implement label smoothing.\"\n",
    "    def __init__(self, size, padding_idx, smoothing=0.0):\n",
    "        super(LabelSmoothing, self).__init__()\n",
    "        self.criterion = nn.KLDivLoss(size_average=False)\n",
    "        self.padding_idx = padding_idx\n",
    "        self.confidence = 1.0 - smoothing\n",
    "        self.smoothing = smoothing\n",
    "        self.size = size\n",
    "        self.true_dist = None\n",
    "        \n",
    "    def forward(self, x, target):\n",
    "        assert x.size(1) == self.size\n",
    "        true_dist = x.data.clone()\n",
    "        true_dist.fill_(self.smoothing / (self.size - 2))\n",
    "        true_dist.scatter_(1, target.data.unsqueeze(1).long(), self.confidence)\n",
    "        true_dist[:, self.padding_idx] = 0\n",
    "        mask = torch.nonzero(target.data == self.padding_idx)\n",
    "        if mask.dim() > 0:\n",
    "            true_dist.index_fill_(0, mask.squeeze(), 0.0)\n",
    "        self.true_dist = true_dist\n",
    "        return self.criterion(x, Variable(true_dist, requires_grad=False))"
   ]
  },
  {
   "cell_type": "code",
   "execution_count": 12,
   "id": "e52ef693-cc6b-4ec3-a2cb-5c870962c74a",
   "metadata": {},
   "outputs": [
    {
     "name": "stderr",
     "output_type": "stream",
     "text": [
      "/Library/Frameworks/Python.framework/Versions/3.12/lib/python3.12/site-packages/torch/nn/_reduction.py:42: UserWarning: size_average and reduce args will be deprecated, please use reduction='sum' instead.\n",
      "  warnings.warn(warning.format(ret))\n"
     ]
    },
    {
     "name": "stdout",
     "output_type": "stream",
     "text": [
      "epoch:  0\n",
      "Epoch Step: 0 Loss: 3.189315 Tokens per Sec: 690.791093\n",
      "Epoch Step: 1 Loss: 3.017648 Tokens per Sec: 1041.733626\n",
      "Epoch Step: 2 Loss: 2.759881 Tokens per Sec: 974.227835\n",
      "Epoch Step: 3 Loss: 2.647342 Tokens per Sec: 992.015610\n",
      "Epoch Step: 4 Loss: 2.343395 Tokens per Sec: 1122.969002\n",
      "Epoch Step: 5 Loss: 2.194282 Tokens per Sec: 1111.936249\n",
      "Epoch Step: 6 Loss: 2.038255 Tokens per Sec: 1131.503280\n",
      "Epoch Step: 7 Loss: 1.869493 Tokens per Sec: 1079.005554\n",
      "Epoch Step: 8 Loss: 1.549125 Tokens per Sec: 1117.991700\n",
      "Epoch Step: 9 Loss: 1.390550 Tokens per Sec: 1052.201596\n",
      "Epoch Step: 10 Loss: 1.301498 Tokens per Sec: 1092.365857\n",
      "Epoch Step: 11 Loss: 1.025303 Tokens per Sec: 1129.134550\n",
      "Epoch Step: 12 Loss: 0.926399 Tokens per Sec: 1066.718103\n",
      "Epoch Step: 13 Loss: 0.761548 Tokens per Sec: 1136.346629\n",
      "Epoch Step: 14 Loss: 0.586828 Tokens per Sec: 1105.482915\n",
      "Epoch Step: 15 Loss: 0.586327 Tokens per Sec: 1122.061822\n",
      "Epoch Step: 16 Loss: 0.450620 Tokens per Sec: 1005.850514\n",
      "Epoch Step: 17 Loss: 0.391646 Tokens per Sec: 1109.444930\n",
      "Epoch Step: 18 Loss: 0.358983 Tokens per Sec: 1121.280333\n",
      "Epoch Step: 19 Loss: 0.405617 Tokens per Sec: 1121.870296\n",
      "Epoch Step: 0 Loss: 0.220527 Tokens per Sec: 1425.818813\n",
      "Epoch Step: 1 Loss: 0.185948 Tokens per Sec: 1423.428052\n",
      "Epoch Step: 2 Loss: 0.213272 Tokens per Sec: 1407.263980\n",
      "Epoch Step: 3 Loss: 0.204253 Tokens per Sec: 1398.389598\n",
      "Epoch Step: 4 Loss: 0.168642 Tokens per Sec: 1362.121608\n",
      "Epoch Step: 5 Loss: 0.208585 Tokens per Sec: 1269.072051\n",
      "Epoch Step: 6 Loss: 0.160469 Tokens per Sec: 1412.921517\n",
      "Epoch Step: 7 Loss: 0.220571 Tokens per Sec: 1429.075607\n",
      "Epoch Step: 8 Loss: 0.169578 Tokens per Sec: 1423.949451\n",
      "Epoch Step: 9 Loss: 0.165746 Tokens per Sec: 1225.923591\n",
      "Epoch Step: 10 Loss: 0.207281 Tokens per Sec: 1031.904296\n",
      "Epoch Step: 11 Loss: 0.198746 Tokens per Sec: 1145.484353\n",
      "Epoch Step: 12 Loss: 0.171691 Tokens per Sec: 1167.963800\n",
      "Epoch Step: 13 Loss: 0.168380 Tokens per Sec: 901.659612\n",
      "Epoch Step: 14 Loss: 0.194919 Tokens per Sec: 907.571743\n",
      "Epoch Step: 15 Loss: 0.223840 Tokens per Sec: 1099.871055\n",
      "Epoch Step: 16 Loss: 0.139123 Tokens per Sec: 1147.789985\n",
      "Epoch Step: 17 Loss: 0.217154 Tokens per Sec: 1138.819992\n",
      "Epoch Step: 18 Loss: 0.220410 Tokens per Sec: 1053.267197\n",
      "Epoch Step: 19 Loss: 0.203281 Tokens per Sec: 991.461769\n",
      "None\n"
     ]
    }
   ],
   "source": [
    "vocab_size = 10\n",
    "criterion = LabelSmoothing(size=vocab_size, padding_idx=0, smoothing=0.0)\n",
    "#criterion = nn.CrossEntropyLoss()\n",
    "model = make_model(vocab_size, vocab_size, N=2)\n",
    "#data_generator = data_gen(data,vocab_size,batch_size,nbatches,d_model)\n",
    "data_generator = zrange(batch_size, nbatches, vocab_size,20)\n",
    "model_opt = NoamOpt(model.src_embed[0].d_model, 1, 400,\n",
    "        torch.optim.Adam(model.parameters(), lr=0, betas=(0.9, 0.98), eps=1e-9))\n",
    "\n",
    "\n",
    "for epoch in range(1):\n",
    "    print(\"epoch: \", epoch)\n",
    "    model.train()\n",
    "    run_epoch(data_generator, model, \n",
    "              SimpleLossCompute(model.generator, criterion, model_opt))\n",
    "    model.eval()\n",
    "    print(run_epoch(data_generator, model, \n",
    "                    SimpleLossCompute(model.generator, criterion, None)))\n"
   ]
  },
  {
   "cell_type": "code",
   "execution_count": 13,
   "id": "7a37f80c-7f47-476d-a4ed-6c643ba3ce9d",
   "metadata": {},
   "outputs": [
    {
     "name": "stdout",
     "output_type": "stream",
     "text": [
      "encoder outputs shape:  torch.Size([1, 7, 512])\n",
      "i:  0\n",
      "ys shape:  torch.Size([1, 1])\n",
      "i:  1\n",
      "ys shape:  torch.Size([1, 2])\n",
      "i:  2\n",
      "ys shape:  torch.Size([1, 3])\n",
      "i:  3\n",
      "ys shape:  torch.Size([1, 4])\n",
      "i:  4\n",
      "ys shape:  torch.Size([1, 5])\n",
      "i:  5\n",
      "ys shape:  torch.Size([1, 6])\n"
     ]
    }
   ],
   "source": [
    "def greedy_decode(model, source, source_mask, max_decode_len, start_symbol):\n",
    "    encoder_outputs = model.encode(source, source_mask) # todo(annhe): check source_masking\n",
    "    print(\"encoder outputs shape: \", encoder_outputs.size())\n",
    "    ys = torch.ones(1,1).fill_(start_symbol).type_as(source.data) # create a 1x1 array with element '<sos>'\n",
    "    for i in range(max_decode_len-1):\n",
    "        print(\"i: \", i)\n",
    "        print(\"ys shape: \", ys.size())\n",
    "        output_mask = torch.Tensor(future_mask(ys.size(1)).type_as(src.data))\n",
    "        output = model.decode(encoder_outputs, source_mask, torch.Tensor(ys),\n",
    "                              output_mask)\n",
    "        # output is size N x L x D\n",
    "        # we need to pass it through the generator\n",
    "        prob = model.generator(output[:,-1,:])\n",
    "        _, vocab_symbol = torch.max(prob, dim=1)\n",
    "        vocab_symbol = vocab_symbol.detach().unsqueeze(0)\n",
    "        ys = torch.cat([ys, vocab_symbol], dim=1)\n",
    "model.eval()\n",
    "src = Variable(torch.LongTensor([[1,2,3,4,5,6,7]]) )\n",
    "src_mask = Variable(torch.ones(1, 1, 7) )\n",
    "greedy_decode(model, src, src_mask, max_decode_len=7, start_symbol=1)\n",
    "    "
   ]
  },
  {
   "cell_type": "code",
   "execution_count": null,
   "id": "0cd22d67-4424-4a8a-9696-a59e47cc8a05",
   "metadata": {},
   "outputs": [],
   "source": []
  }
 ],
 "metadata": {
  "kernelspec": {
   "display_name": "Python 3 (ipykernel)",
   "language": "python",
   "name": "python3"
  },
  "language_info": {
   "codemirror_mode": {
    "name": "ipython",
    "version": 3
   },
   "file_extension": ".py",
   "mimetype": "text/x-python",
   "name": "python",
   "nbconvert_exporter": "python",
   "pygments_lexer": "ipython3",
   "version": "3.12.1"
  }
 },
 "nbformat": 4,
 "nbformat_minor": 5
}
